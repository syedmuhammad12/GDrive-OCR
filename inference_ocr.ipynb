{
 "cells": [
  {
   "cell_type": "code",
   "execution_count": 1,
   "id": "2441825c-e785-491b-a292-0c62db0524fd",
   "metadata": {},
   "outputs": [],
   "source": [
    "# !pip install pyngrok==4.1.1\n",
    "!netstat -ano | findstr :4040\n",
    "# !ngrok authtoken 2V9NV9WaROXzxtGB5GPFdLxoeLs_5F5EdtwiSPMHBubbUZdTE\n"
   ]
  },
  {
   "cell_type": "code",
   "execution_count": 2,
   "id": "b7b5c9ff",
   "metadata": {},
   "outputs": [],
   "source": [
    "import io\n",
    "import pickle\n",
    "import os.path\n",
    "import pandas as pd\n",
    "from googleapiclient.discovery import build\n",
    "from google_auth_oauthlib.flow import InstalledAppFlow\n",
    "from google.auth.transport.requests import Request\n",
    "from googleapiclient.http import MediaFileUpload, MediaIoBaseDownload\n",
    "from google.oauth2.credentials import Credentials\n",
    "from flask import Flask, flash, request, redirect, url_for, jsonify, send_file, make_response,session\n",
    "from flask_cors import CORS, cross_origin\n",
    "from flask_ngrok import run_with_ngrok\n",
    "from roboflow import Roboflow\n",
    "import urllib\n",
    "import cv2\n",
    "import base64\n",
    "import numpy as np\n",
    "import io\n",
    "from PIL import Image\n",
    "import os\n",
    "from gtts import gTTS"
   ]
  },
  {
   "cell_type": "code",
   "execution_count": 3,
   "id": "938c07a3",
   "metadata": {},
   "outputs": [],
   "source": [
    "class Drive_OCR:\n",
    "    def __init__(self,filename) -> None:\n",
    "        self.filename = filename\n",
    "        self.SCOPES = ['https://www.googleapis.com/auth/drive']\n",
    "        self.credentials = \"./credentials.json\"\n",
    "        self.pickle = \"./token.json\"\n",
    "\n",
    "    def main(self) -> str:\n",
    "        \"\"\"Shows basic usage of the Drive v3 API.\n",
    "        Prints the names and ids of the first 10 files the user has access to.\n",
    "        \"\"\"\n",
    "        creds = None\n",
    "        # The file token.pickle stores the user's access and refresh tokens, and is\n",
    "        # created automatically when the authorization flow completes for the first\n",
    "        # time.\n",
    "        if os.path.exists('token.json'):\n",
    "            creds = Credentials.from_authorized_user_file('token.json', self.SCOPES)\n",
    "        # If there are no (valid) credentials available, let the user log in.\n",
    "        if not creds or not creds.valid:\n",
    "            if creds and creds.expired and creds.refresh_token:\n",
    "                creds.refresh(Request())\n",
    "            else:\n",
    "                flow = InstalledAppFlow.from_client_secrets_file(\n",
    "                    'credentials.json', self.SCOPES)\n",
    "                creds = flow.run_local_server(host='localhost', port=5501)\n",
    "            # Save the credentials for the next run\n",
    "            with open('token.json', 'w') as token:\n",
    "                token.write(creds.to_json())\n",
    "\n",
    "        service = build('drive', 'v3', credentials=creds)\n",
    "\n",
    "        # For Uploading Image into Drive\n",
    "        mime = 'application/vnd.google-apps.document'\n",
    "        file_metadata = {'name': self.filename, 'mimeType': mime}\n",
    "        file = service.files().create(\n",
    "            body=file_metadata,\n",
    "            media_body=MediaFileUpload(self.filename, mimetype=mime)\n",
    "        ).execute()\n",
    "        print('File ID: %s' % file.get('id'))\n",
    "\n",
    "        # It will export drive image into Doc\n",
    "        request = service.files().export_media(fileId=file.get('id'),mimeType=\"text/plain\")\n",
    "\n",
    "        # For Downloading Doc Image data by request\n",
    "        fh = io.BytesIO()\n",
    "        downloader = MediaIoBaseDownload(fh, request)\n",
    "        done = False\n",
    "        while done is False:\n",
    "            status, done = downloader.next_chunk()\n",
    "            print(\"Download %d%%.\" % int(status.progress() * 100))\n",
    "\n",
    "        # It will delete file from drive base on ID\n",
    "        service.files().delete(fileId=file.get('id')).execute()\n",
    "\n",
    "        # It will print data into terminal\n",
    "        output = fh.getvalue().decode()\n",
    "        return output"
   ]
  },
  {
   "cell_type": "code",
   "execution_count": null,
   "id": "35376e1d",
   "metadata": {},
   "outputs": [
    {
     "name": "stdout",
     "output_type": "stream",
     "text": [
      "loading Roboflow workspace...\n",
      "loading Roboflow project...\n",
      " * Serving Flask app '__main__'\n",
      " * Debug mode: off\n"
     ]
    },
    {
     "name": "stderr",
     "output_type": "stream",
     "text": [
      "WARNING: This is a development server. Do not use it in a production deployment. Use a production WSGI server instead.\n",
      " * Running on http://127.0.0.1:5000\n",
      "Press CTRL+C to quit\n"
     ]
    },
    {
     "name": "stdout",
     "output_type": "stream",
     "text": [
      " * Running on http://22a6-2400-adc1-401-1a00-f11e-bb3a-d136-e743.ngrok-free.app\n",
      " * Traffic stats available on http://127.0.0.1:4040\n"
     ]
    },
    {
     "name": "stderr",
     "output_type": "stream",
     "text": [
      "127.0.0.1 - - [12/Sep/2023 01:29:39] \"GET / HTTP/1.1\" 200 -\n",
      "127.0.0.1 - - [12/Sep/2023 01:29:40] \"GET /favicon.ico HTTP/1.1\" 404 -\n",
      "127.0.0.1 - - [12/Sep/2023 01:29:49] \"GET / HTTP/1.1\" 200 -\n",
      "127.0.0.1 - - [12/Sep/2023 01:31:20] \"OPTIONS /extract HTTP/1.1\" 200 -\n"
     ]
    },
    {
     "name": "stdout",
     "output_type": "stream",
     "text": [
      "File ID: 1ydv1IOkCcgBCJ2CW6XtQGrS6wpBeVycc6wbHP9MWmqE\n",
      "Download 100%.\n"
     ]
    },
    {
     "name": "stderr",
     "output_type": "stream",
     "text": [
      "127.0.0.1 - - [12/Sep/2023 01:32:12] \"POST /extract HTTP/1.1\" 200 -\n"
     ]
    }
   ],
   "source": [
    "if not os.path.isdir(\"cropped_images\"):\n",
    "  os.mkdir(\"cropped_images\")\n",
    "ALLOWED_EXTENSIONS = {'txt', 'pdf', 'png', 'jpg', 'jpeg', 'gif'}\n",
    "\n",
    "app = Flask(__name__)\n",
    "CORS(app, support_credentials=True)\n",
    "app.config['CORS_HEADERS'] = 'Content-Type'\n",
    "\n",
    "app.secret_key = 'my_secret_key'\n",
    "\n",
    "rf = Roboflow(api_key=\"sMDLRU6MwJA4ONNM61TU\")\n",
    "project = rf.workspace(\"urduocr\").project(\"line-detection-urduocr\")\n",
    "model = project.version(2).model\n",
    "run_with_ngrok(app)\n",
    "\n",
    "urdu_chars = ['ت', 'ڈ', '{', 'ل', 'د', \"'\", 'ڑ', 'ژ', 'ض', '۱', ';', 'ﷲ', '۰', 'ن', '’', '؛', 'أ', '+', '[', '۶', '۳', ')', 'ٹ', '؟', 'چ', '﷽', 'ص', ',', 'ﷺ', 'ظ', '>', '\"', 'ء', '&', '<', 'ا', '۷', 'ق', '۸', 'ٍ', 'ف', '۔', 'ج', 'ھ', 'ے', '۹', 'َ', 'ؒ', 'ٌ', '%', '.', ' ', '\\n', 'ک', '۵', 'خ', '\\ue002', 'ۃ', '\\ue004', '؏', 'ُ', 'ں', ':', '`', 'ش', '^', '\\ue000', '\\u0602', 'پ', 'ع', 'ی', '*', 'ّ', 'ً', '~', ']', 'ح', 'ز', 'غ', '۴', 'ْ', '\\ue001', '،', '_', '#', '÷', 'ث', 'گ', 'آ', 'ر', '․', 'ٰ', 'ِ', '\\\\', 'ۓ', 'س', '?', 'و', '‘', 'ٴ', 'ٗ', 'ؐ', 'ۂ', '؍', '(', 'ب', 'م', 'é', '٦', 'ؓ', 'ہ', 'ٔ', 'ط', '$', 'ٓ', 'ة', '|', '}', '/', 'ئ', '=', 'ؤ', 'ٖ', '۲', '-', 'ذ', '!', '@']\n",
    "dat = pd.read_csv(\"character_mappings.csv\", index_col=0, encoding=\"utf-8\")\n",
    "dat = dat.to_dict()[\"UrduEquivalent\"]\n",
    "cs = pd.read_csv(\"char_number.csv\", encoding=\"utf-8\", index_col=0)\n",
    "cs = cs.to_dict()[\"number\"]\n",
    "dat.update(cs)\n",
    "\n",
    "@app.route('/', methods=['GET'])\n",
    "def start_page():\n",
    "  return \"Hello World!\"\n",
    "\n",
    "@app.route('/detection', methods=['GET', 'POST'])\n",
    "def detect_lines():\n",
    "    if request.method == 'POST':\n",
    "        file = request.get_json()\n",
    "        f = urllib.request.urlopen(file[\"file\"])\n",
    "        myfile = f.read()\n",
    "        if f.info()['content-type'].split(\"/\")[0] == \"image\":\n",
    "            myfile = np.array(Image.open(io.BytesIO(myfile)))\n",
    "            cv2.imwrite(\"save.jpg\", myfile)\n",
    "            detect = model.predict(\"save.jpg\", confidence=10, overlap=30)\n",
    "            data = detect.json()\n",
    "            data['predictions'].sort(key=lambda x: x['y'])\n",
    "            detect.save(\"save_predict.jpg\")\n",
    "            # Get the image bytes\n",
    "            image_bytes = open('save_predict.jpg', 'rb').read()\n",
    "            # Encode the image bytes to base64\n",
    "            image_base64 = base64.b64encode(image_bytes).decode()\n",
    "            os.remove(\"save_predict.jpg\")\n",
    "            return jsonify({\"predicted_image\": image_base64, \"is_image\": True, \"my_data\": data})\n",
    "\n",
    "\n",
    "@app.route('/extraction', methods=['GET', 'POST'])\n",
    "def extract_text():\n",
    "    if request.method == 'POST':\n",
    "        image = cv2.imread(\"save.jpg\")\n",
    "        count = 0\n",
    "        data = request.get_json()[\"my_data\"]\n",
    "        generated_texts = []\n",
    "        actual_generated_text = \"\"\n",
    "        for i in data[\"predictions\"]:\n",
    "            if i['class'] == \"Line\":\n",
    "                count +=1\n",
    "                height = i['height']\n",
    "                width = i['width']\n",
    "                x = i['x']\n",
    "                y = i['y']\n",
    "\n",
    "                # Padded ROI\n",
    "                roi_x = int(x - (width + 30)/ 2)\n",
    "                roi_y = int(y - (height + 30)/ 2)\n",
    "                roi_width = int(width + 30)\n",
    "                roi_height = int(height + 30)\n",
    "\n",
    "                # Non-Padded ROI\n",
    "                # roi_x = int(x - (width)/ 2)\n",
    "                # roi_y = int(y - (height)/ 2)\n",
    "                # roi_width = int(width)\n",
    "                # roi_height = int(height)\n",
    "\n",
    "\n",
    "                roi = image[roi_y:roi_y+roi_height, roi_x:roi_x+roi_width]\n",
    "                path = f\"./cropped_images/cropped{count}.jpg\"\n",
    "#                 cropImage_list.append(path)\n",
    "                cv2.imwrite(path, roi)\n",
    "                count+=1\n",
    "\n",
    "#                 pixel_values_test1 = processor.feature_extractor(roi, return_tensors=\"pt\").pixel_values\n",
    "#                 generated_ids_test1 = loaded_model.generate(pixel_values_test1)\n",
    "#                 generated_text_test1 = processor.batch_decode(generated_ids_test1, skip_special_tokens=True)[0]\n",
    "#                 generated_texts.append(generated_text_test1)\n",
    "                while True:\n",
    "                  try:\n",
    "                    drive = Drive_OCR(path)\n",
    "                    output = drive.main()\n",
    "                    generated_texts.append(output.replace(\"\\ufeff________________\\r\\n\\r\\n\", \"\"))\n",
    "                    os.remove(path)\n",
    "                    break\n",
    "                  except:\n",
    "                    pass\n",
    "        if len(generated_texts)>0:\n",
    "            actual_generated_text = \"\\n\".join(generated_texts)\n",
    "        tts = gTTS(text=actual_generated_text, lang=\"ur\")\n",
    "        tts.save(f'./audio_lines.mp3')\n",
    "        audio_bytes = open('./audio_lines.mp3', 'rb').read()\n",
    "        audio_base64 = base64.b64encode(audio_bytes).decode('UTF-8')\n",
    "        session['is_image'] = False\n",
    "        os.remove(\"save.jpg\")\n",
    "        os.remove('./audio_lines.mp3')\n",
    "        return jsonify({\"generated_text\": actual_generated_text, \"audio\": audio_base64 })\n",
    "\n",
    "@app.route('/extract', methods=['GET', 'POST'])\n",
    "def extract_complete_page():\n",
    "    if request.method == 'POST':\n",
    "        file = request.get_json()\n",
    "        f = urllib.request.urlopen(file[\"file\"])\n",
    "        myfile = f.read()\n",
    "        if f.info()['content-type'].split(\"/\")[0] == \"image\":\n",
    "            myfile = np.array(Image.open(io.BytesIO(myfile)))\n",
    "            cv2.imwrite(\"save.jpg\", myfile)\n",
    "            drive = Drive_OCR(\"save.jpg\")\n",
    "            output = drive.main()\n",
    "            output = output.replace(\"\\ufeff________________\\r\\n\\r\\n\", \"\")\n",
    "            output_str = \"\"\n",
    "            for char in output:\n",
    "                if char not in urdu_chars:\n",
    "                    if str(char).upper() in dat.keys():\n",
    "                        output_str += dat[str(char).upper()]\n",
    "                    else:\n",
    "                        if not  output_str.endswith(\" \") and output_str!=\"\":\n",
    "                            output_str += \" \"\n",
    "                else:\n",
    "                    output_str += char\n",
    "                    \n",
    "            tts = gTTS(text=output_str, lang=\"ur\")\n",
    "            tts.save(f'./audio_lines.mp3')\n",
    "            audio_bytes = open('./audio_lines.mp3', 'rb').read()\n",
    "            audio_base64 = base64.b64encode(audio_bytes).decode('UTF-8')\n",
    "            image_bytes = open('save.jpg', 'rb').read()\n",
    "            # Encode the image bytes to base64\n",
    "            image_base64 = base64.b64encode(image_bytes).decode()\n",
    "            os.remove(\"save.jpg\")\n",
    "            os.remove('./audio_lines.mp3')\n",
    "            return jsonify({\"generated_text\": output_str, \"audio\": audio_base64, \"image\": image_base64 })\n",
    "\n",
    "app.run()"
   ]
  },
  {
   "cell_type": "code",
   "execution_count": 16,
   "id": "48a5f639-0f24-48ee-99a1-c5e9a5aa39f3",
   "metadata": {},
   "outputs": [],
   "source": [
    "ur = ['ت', 'ڈ', '{', 'ل', 'د', \"'\", 'ڑ', 'ژ', 'ض', '۱', ';', 'ﷲ', '۰', 'ن', '’', '؛', 'أ', '+', '[', '۶', '۳', ')', 'ٹ', '؟', 'چ', '4', '﷽', 'ص', '2', ',', 'ﷺ', 'ظ', '>', '\"', 'ء', '&', '<', 'ا', '۷', 'ق', '۸', 'ٍ', 'ف', '۔', '8', 'ج', 'ھ', 'ے', '۹', 'َ', 'ؒ', 'ٌ', '%', '.', ' ', '\\n', 'ک', '۵', 'خ', '\\ue002', 'ۃ', '\\ue004', '؏', '3', 'ُ', 'ں', ':', '`', 'ش', '^', '\\ue000', '\\u0602', 'پ', 'ع', 'ی', '*', 'ّ', 'ً', '~', '6', ']', 'ح', 'ز', 'غ', '۴', 'ْ', '\\ue001', '9', '،', '_', '#', '÷', 'ث', 'گ', '5', 'آ', 'ر', '1', '․', 'ٰ', 'ِ', '\\\\', 'ۓ', 'س', '?', '0', 'و', '‘', 'ٴ', 'ٗ', 'ؐ', 'ۂ', '؍', '(', 'ب', 'م', 'é', '٦', 'ؓ', 'ہ', 'ٔ', 'ط', '$', 'ٓ', 'ة', '|', '}', '/', 'ئ', '=', 'ؤ', 'ٖ', '۲', '-', 'ذ', '!', '7', '@']\n",
    "for i in range(10):\n",
    "    if str(i) in ur:\n",
    "        ur.remove(str(i))"
   ]
  },
  {
   "cell_type": "code",
   "execution_count": 17,
   "id": "2814eaa0-e15a-4147-bbfa-4fb5ab1c1006",
   "metadata": {},
   "outputs": [
    {
     "data": {
      "text/plain": [
       "128"
      ]
     },
     "execution_count": 17,
     "metadata": {},
     "output_type": "execute_result"
    }
   ],
   "source": [
    "len(ur)"
   ]
  },
  {
   "cell_type": "code",
   "execution_count": 19,
   "id": "dc7fecf6-0995-49fa-b4f0-d4c9370ea0d4",
   "metadata": {},
   "outputs": [
    {
     "name": "stdout",
     "output_type": "stream",
     "text": [
      "['ت', 'ڈ', '{', 'ل', 'د', \"'\", 'ڑ', 'ژ', 'ض', '۱', ';', 'ﷲ', '۰', 'ن', '’', '؛', 'أ', '+', '[', '۶', '۳', ')', 'ٹ', '؟', 'چ', '﷽', 'ص', ',', 'ﷺ', 'ظ', '>', '\"', 'ء', '&', '<', 'ا', '۷', 'ق', '۸', 'ٍ', 'ف', '۔', 'ج', 'ھ', 'ے', '۹', 'َ', 'ؒ', 'ٌ', '%', '.', ' ', '\\n', 'ک', '۵', 'خ', '\\ue002', 'ۃ', '\\ue004', '؏', 'ُ', 'ں', ':', '`', 'ش', '^', '\\ue000', '\\u0602', 'پ', 'ع', 'ی', '*', 'ّ', 'ً', '~', ']', 'ح', 'ز', 'غ', '۴', 'ْ', '\\ue001', '،', '_', '#', '÷', 'ث', 'گ', 'آ', 'ر', '․', 'ٰ', 'ِ', '\\\\', 'ۓ', 'س', '?', 'و', '‘', 'ٴ', 'ٗ', 'ؐ', 'ۂ', '؍', '(', 'ب', 'م', 'é', '٦', 'ؓ', 'ہ', 'ٔ', 'ط', '$', 'ٓ', 'ة', '|', '}', '/', 'ئ', '=', 'ؤ', 'ٖ', '۲', '-', 'ذ', '!', '@']\n"
     ]
    }
   ],
   "source": [
    "print(ur)"
   ]
  },
  {
   "cell_type": "code",
   "execution_count": null,
   "id": "732cc073-84ca-4318-849f-e315269ef049",
   "metadata": {},
   "outputs": [],
   "source": []
  }
 ],
 "metadata": {
  "kernelspec": {
   "display_name": "Python 3 (ipykernel)",
   "language": "python",
   "name": "python3"
  },
  "language_info": {
   "codemirror_mode": {
    "name": "ipython",
    "version": 3
   },
   "file_extension": ".py",
   "mimetype": "text/x-python",
   "name": "python",
   "nbconvert_exporter": "python",
   "pygments_lexer": "ipython3",
   "version": "3.10.7"
  }
 },
 "nbformat": 4,
 "nbformat_minor": 5
}
