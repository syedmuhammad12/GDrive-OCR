{
 "cells": [
  {
   "cell_type": "code",
   "execution_count": 27,
   "id": "2441825c-e785-491b-a292-0c62db0524fd",
   "metadata": {},
   "outputs": [
    {
     "name": "stdout",
     "output_type": "stream",
     "text": [
      "Requirement already satisfied: pyngrok==4.1.1 in d:\\ncl work\\new ocr (intern)\\urduocrfrontend_drive\\backend\\py_env\\lib\\site-packages (4.1.1)\n",
      "Requirement already satisfied: future in d:\\ncl work\\new ocr (intern)\\urduocrfrontend_drive\\backend\\py_env\\lib\\site-packages (from pyngrok==4.1.1) (0.18.3)\n",
      "Requirement already satisfied: PyYAML in d:\\ncl work\\new ocr (intern)\\urduocrfrontend_drive\\backend\\py_env\\lib\\site-packages (from pyngrok==4.1.1) (6.0.1)\n"
     ]
    },
    {
     "name": "stderr",
     "output_type": "stream",
     "text": [
      "\n",
      "[notice] A new release of pip available: 22.2.2 -> 23.2.1\n",
      "[notice] To update, run: python.exe -m pip install --upgrade pip\n"
     ]
    },
    {
     "name": "stdout",
     "output_type": "stream",
     "text": [
      "  TCP    127.0.0.1:4040         0.0.0.0:0              LISTENING       17016\n",
      "Authtoken saved to configuration file: C:\\Users\\Syed Muhammad/.ngrok2/ngrok.yml\n"
     ]
    }
   ],
   "source": [
    "!pip install pyngrok==4.1.1\n",
    "!netstat -ano | findstr :4040\n",
    "!ngrok authtoken 2V9NV9WaROXzxtGB5GPFdLxoeLs_5F5EdtwiSPMHBubbUZdTE\n"
   ]
  },
  {
   "cell_type": "code",
   "execution_count": 2,
   "id": "b7b5c9ff",
   "metadata": {},
   "outputs": [],
   "source": [
    "import io\n",
    "import pickle\n",
    "import os.path\n",
    "from googleapiclient.discovery import build\n",
    "from google_auth_oauthlib.flow import InstalledAppFlow\n",
    "from google.auth.transport.requests import Request\n",
    "from googleapiclient.http import MediaFileUpload, MediaIoBaseDownload\n",
    "from google.oauth2.credentials import Credentials\n",
    "from flask import Flask, flash, request, redirect, url_for, jsonify, send_file, make_response,session\n",
    "from flask_cors import CORS, cross_origin\n",
    "from flask_ngrok import run_with_ngrok\n",
    "from roboflow import Roboflow\n",
    "import urllib\n",
    "import cv2\n",
    "import base64\n",
    "import numpy as np\n",
    "import io\n",
    "from PIL import Image\n",
    "import os\n",
    "from gtts import gTTS"
   ]
  },
  {
   "cell_type": "code",
   "execution_count": 3,
   "id": "938c07a3",
   "metadata": {},
   "outputs": [],
   "source": [
    "class Drive_OCR:\n",
    "    def __init__(self,filename) -> None:\n",
    "        self.filename = filename\n",
    "        self.SCOPES = ['https://www.googleapis.com/auth/drive']\n",
    "        self.credentials = \"./credentials.json\"\n",
    "        self.pickle = \"./token.json\"\n",
    "\n",
    "    def main(self) -> str:\n",
    "        \"\"\"Shows basic usage of the Drive v3 API.\n",
    "        Prints the names and ids of the first 10 files the user has access to.\n",
    "        \"\"\"\n",
    "        creds = None\n",
    "        # The file token.pickle stores the user's access and refresh tokens, and is\n",
    "        # created automatically when the authorization flow completes for the first\n",
    "        # time.\n",
    "        if os.path.exists('token.json'):\n",
    "            creds = Credentials.from_authorized_user_file('token.json', self.SCOPES)\n",
    "        # If there are no (valid) credentials available, let the user log in.\n",
    "        if not creds or not creds.valid:\n",
    "            if creds and creds.expired and creds.refresh_token:\n",
    "                creds.refresh(Request())\n",
    "            else:\n",
    "                flow = InstalledAppFlow.from_client_secrets_file(\n",
    "                    'credentials.json', self.SCOPES)\n",
    "                creds = flow.run_local_server(host='localhost', port=5501)\n",
    "            # Save the credentials for the next run\n",
    "            with open('token.json', 'w') as token:\n",
    "                token.write(creds.to_json())\n",
    "\n",
    "        service = build('drive', 'v3', credentials=creds)\n",
    "\n",
    "        # For Uploading Image into Drive\n",
    "        mime = 'application/vnd.google-apps.document'\n",
    "        file_metadata = {'name': self.filename, 'mimeType': mime}\n",
    "        file = service.files().create(\n",
    "            body=file_metadata,\n",
    "            media_body=MediaFileUpload(self.filename, mimetype=mime)\n",
    "        ).execute()\n",
    "        print('File ID: %s' % file.get('id'))\n",
    "\n",
    "        # It will export drive image into Doc\n",
    "        request = service.files().export_media(fileId=file.get('id'),mimeType=\"text/plain\")\n",
    "\n",
    "        # For Downloading Doc Image data by request\n",
    "        fh = io.BytesIO()\n",
    "        downloader = MediaIoBaseDownload(fh, request)\n",
    "        done = False\n",
    "        while done is False:\n",
    "            status, done = downloader.next_chunk()\n",
    "            print(\"Download %d%%.\" % int(status.progress() * 100))\n",
    "\n",
    "        # It will delete file from drive base on ID\n",
    "        service.files().delete(fileId=file.get('id')).execute()\n",
    "\n",
    "        # It will print data into terminal\n",
    "        output = fh.getvalue().decode()\n",
    "        return output"
   ]
  },
  {
   "cell_type": "code",
   "execution_count": 4,
   "id": "35376e1d",
   "metadata": {},
   "outputs": [
    {
     "name": "stdout",
     "output_type": "stream",
     "text": [
      "loading Roboflow workspace...\n",
      "loading Roboflow project...\n",
      " * Serving Flask app '__main__'\n",
      " * Debug mode: off\n"
     ]
    },
    {
     "name": "stderr",
     "output_type": "stream",
     "text": [
      "WARNING: This is a development server. Do not use it in a production deployment. Use a production WSGI server instead.\n",
      " * Running on http://127.0.0.1:5000\n",
      "Press CTRL+C to quit\n"
     ]
    },
    {
     "name": "stdout",
     "output_type": "stream",
     "text": [
      " * Running on http://c1ec-2400-adc1-401-1a00-1ce6-c26e-4243-7f19.ngrok-free.app\n",
      " * Traffic stats available on http://127.0.0.1:4040\n"
     ]
    },
    {
     "name": "stderr",
     "output_type": "stream",
     "text": [
      "127.0.0.1 - - [09/Sep/2023 15:53:20] \"GET / HTTP/1.1\" 200 -\n",
      "127.0.0.1 - - [09/Sep/2023 15:53:22] \"GET /favicon.ico HTTP/1.1\" 404 -\n",
      "127.0.0.1 - - [09/Sep/2023 15:53:48] \"GET / HTTP/1.1\" 200 -\n",
      "127.0.0.1 - - [09/Sep/2023 15:54:03] \"GET / HTTP/1.1\" 200 -\n",
      "127.0.0.1 - - [09/Sep/2023 15:54:07] \"GET /favicon.ico HTTP/1.1\" 404 -\n"
     ]
    }
   ],
   "source": [
    "if not os.path.isdir(\"cropped_images\"):\n",
    "  os.mkdir(\"cropped_images\")\n",
    "ALLOWED_EXTENSIONS = {'txt', 'pdf', 'png', 'jpg', 'jpeg', 'gif'}\n",
    "\n",
    "app = Flask(__name__)\n",
    "CORS(app, support_credentials=True)\n",
    "app.config['CORS_HEADERS'] = 'Content-Type'\n",
    "\n",
    "app.secret_key = 'my_secret_key'\n",
    "\n",
    "rf = Roboflow(api_key=\"sMDLRU6MwJA4ONNM61TU\")\n",
    "project = rf.workspace(\"urduocr\").project(\"line-detection-urduocr\")\n",
    "model = project.version(2).model\n",
    "run_with_ngrok(app)\n",
    "\n",
    "\n",
    "@app.route('/', methods=['GET'])\n",
    "def start_page():\n",
    "  return \"Hello World!\"\n",
    "\n",
    "@app.route('/detection', methods=['GET', 'POST'])\n",
    "def detect_lines():\n",
    "    if request.method == 'POST':\n",
    "        file = request.get_json()\n",
    "        f = urllib.request.urlopen(file[\"file\"])\n",
    "        myfile = f.read()\n",
    "        if f.info()['content-type'].split(\"/\")[0] == \"image\":\n",
    "            myfile = np.array(Image.open(io.BytesIO(myfile)))\n",
    "            cv2.imwrite(\"save.jpg\", myfile)\n",
    "            detect = model.predict(\"save.jpg\", confidence=10, overlap=30)\n",
    "            data = detect.json()\n",
    "            data['predictions'].sort(key=lambda x: x['y'])\n",
    "            detect.save(\"save_predict.jpg\")\n",
    "            # Get the image bytes\n",
    "            image_bytes = open('save_predict.jpg', 'rb').read()\n",
    "            # Encode the image bytes to base64\n",
    "            image_base64 = base64.b64encode(image_bytes).decode()\n",
    "            os.remove(\"save_predict.jpg\")\n",
    "            return jsonify({\"predicted_image\": image_base64, \"is_image\": True, \"my_data\": data})\n",
    "\n",
    "\n",
    "@app.route('/extraction', methods=['GET', 'POST'])\n",
    "def extract_text():\n",
    "    if request.method == 'POST':\n",
    "        image = cv2.imread(\"save.jpg\")\n",
    "        count = 0\n",
    "        data = request.get_json()[\"my_data\"]\n",
    "        generated_texts = []\n",
    "        actual_generated_text = \"\"\n",
    "        for i in data[\"predictions\"]:\n",
    "            if i['class'] == \"Line\":\n",
    "                count +=1\n",
    "                height = i['height']\n",
    "                width = i['width']\n",
    "                x = i['x']\n",
    "                y = i['y']\n",
    "\n",
    "                # Padded ROI\n",
    "                roi_x = int(x - (width + 30)/ 2)\n",
    "                roi_y = int(y - (height + 30)/ 2)\n",
    "                roi_width = int(width + 30)\n",
    "                roi_height = int(height + 30)\n",
    "\n",
    "                # Non-Padded ROI\n",
    "                # roi_x = int(x - (width)/ 2)\n",
    "                # roi_y = int(y - (height)/ 2)\n",
    "                # roi_width = int(width)\n",
    "                # roi_height = int(height)\n",
    "\n",
    "\n",
    "                roi = image[roi_y:roi_y+roi_height, roi_x:roi_x+roi_width]\n",
    "                path = f\"./cropped_images/cropped{count}.jpg\"\n",
    "#                 cropImage_list.append(path)\n",
    "                cv2.imwrite(path, roi)\n",
    "                count+=1\n",
    "\n",
    "#                 pixel_values_test1 = processor.feature_extractor(roi, return_tensors=\"pt\").pixel_values\n",
    "#                 generated_ids_test1 = loaded_model.generate(pixel_values_test1)\n",
    "#                 generated_text_test1 = processor.batch_decode(generated_ids_test1, skip_special_tokens=True)[0]\n",
    "#                 generated_texts.append(generated_text_test1)\n",
    "                while True:\n",
    "                  try:\n",
    "                    drive = Drive_OCR(path)\n",
    "                    output = drive.main()\n",
    "                    generated_texts.append(output.replace(\"\\ufeff________________\\r\\n\\r\\n\", \"\"))\n",
    "                    os.remove(path)\n",
    "                    break\n",
    "                  except:\n",
    "                    pass\n",
    "        if len(generated_texts)>0:\n",
    "            actual_generated_text = \"\\n\".join(generated_texts)\n",
    "        tts = gTTS(text=actual_generated_text, lang=\"ur\")\n",
    "        tts.save(f'./audio_lines.mp3')\n",
    "        audio_bytes = open('./audio_lines.mp3', 'rb').read()\n",
    "        audio_base64 = base64.b64encode(audio_bytes).decode('UTF-8')\n",
    "        session['is_image'] = False\n",
    "        os.remove(\"save.jpg\")\n",
    "        os.remove('./audio_lines.mp3')\n",
    "        return jsonify({\"generated_text\": actual_generated_text, \"audio\": audio_base64 })\n",
    "\n",
    "\n",
    "\n",
    "app.run()"
   ]
  },
  {
   "cell_type": "code",
   "execution_count": null,
   "id": "9cc2a2fc",
   "metadata": {},
   "outputs": [],
   "source": []
  },
  {
   "cell_type": "code",
   "execution_count": 5,
   "id": "e5408ca5",
   "metadata": {},
   "outputs": [],
   "source": [
    "# !ngrok authtoken '2V9NV9WaROXzxtGB5GPFdLxoeLs_5F5EdtwiSPMHBubbUZdTE'"
   ]
  },
  {
   "cell_type": "code",
   "execution_count": 1,
   "id": "98867572-bb45-4d5f-b248-14a1ec8bb6bb",
   "metadata": {},
   "outputs": [
    {
     "name": "stdout",
     "output_type": "stream",
     "text": [
      "^C\n"
     ]
    }
   ],
   "source": []
  },
  {
   "cell_type": "code",
   "execution_count": null,
   "id": "beb378b5-a031-4ac6-9afe-6f247abc042e",
   "metadata": {},
   "outputs": [],
   "source": []
  }
 ],
 "metadata": {
  "kernelspec": {
   "display_name": "Python 3 (ipykernel)",
   "language": "python",
   "name": "python3"
  },
  "language_info": {
   "codemirror_mode": {
    "name": "ipython",
    "version": 3
   },
   "file_extension": ".py",
   "mimetype": "text/x-python",
   "name": "python",
   "nbconvert_exporter": "python",
   "pygments_lexer": "ipython3",
   "version": "3.10.7"
  }
 },
 "nbformat": 4,
 "nbformat_minor": 5
}
